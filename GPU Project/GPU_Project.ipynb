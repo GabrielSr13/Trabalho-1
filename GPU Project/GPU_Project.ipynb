{
  "nbformat": 4,
  "nbformat_minor": 0,
  "metadata": {
    "colab": {
      "name": "GPU Project.ipynb",
      "provenance": []
    },
    "kernelspec": {
      "name": "python3",
      "display_name": "Python 3"
    },
    "language_info": {
      "name": "python"
    },
    "accelerator": "GPU"
  },
  "cells": [
    {
      "cell_type": "code",
      "metadata": {
        "colab": {
          "base_uri": "https://localhost:8080/"
        },
        "id": "QMnNKxYhClxP",
        "outputId": "1d3bd079-bbba-49e0-cb08-1cfe06bc7664"
      },
      "source": [
        "from numba import cuda\n",
        "\n",
        "import numpy\n",
        "\n",
        "from numpy import *\n",
        "\n",
        "@cuda.jit\n",
        "def my_kernel(io_array, o_array):\n",
        "    # Thread id in a 1D block\n",
        "    tx = cuda.threadIdx.x\n",
        "    # Block id in a 1D grid\n",
        "    ty = cuda.blockIdx.x\n",
        "    # Block width, i.e. number of threads per block\n",
        "    bw = cuda.blockDim.x\n",
        "    \n",
        "    # Compute flattened index inside the array\n",
        "    pos = tx + ty * bw\n",
        "\n",
        "    num = 0\n",
        "    count = 0  \n",
        "    i = 0\n",
        "    while( i < io_array.size ):\n",
        "      num = io_array[i]\n",
        "      for n in io_array:\n",
        "        if num == n:\n",
        "          count = count + 1\n",
        "      o_array[num-1] = count\n",
        "      count = 0\n",
        "      i = i + 1  \n",
        "      \n",
        "\n",
        "# vetor com números\n",
        "data = random.randint(1,11, size=(100))\n",
        "\n",
        "print(data)\n",
        "o_array = numpy.empty([10])\n",
        "\n",
        "# números de threads por bloco\n",
        "threads_per_block = 32\n",
        "\n",
        "# número de blocos por grid\n",
        "blocks_per_grid = ( data.size + (threads_per_block - 1) )\n",
        "\n",
        "# iniciando o kernel\n",
        "my_kernel[blocks_per_grid, threads_per_block](data, o_array)\n",
        "\n",
        "# mostra o resultado\n",
        "print(o_array)\n",
        "\n",
        "\n"
      ],
      "execution_count": 122,
      "outputs": [
        {
          "output_type": "stream",
          "text": [
            "[ 1  4  3  3  2  5 10 10  9  8  7  1  6  3 10 10  5  9 10  2  2  2  2  1\n",
            "  9  8  3  5  6  1  4  3  2  4  7  4  2  1  4  1  6  4  5  1  3  1  7  5\n",
            "  8  7 10  8  8  2  9  3  9  1  7  7  8  8  1  5  1  4  4  5 10  3  4  1\n",
            " 10 10  3  4  1  6  1  9  4  4 10  6  5  7  4  2  4  6  2  8  2  7  1  6\n",
            "  4  5  8  7]\n",
            "[15. 11.  9. 15.  9.  7.  9.  9.  6. 10.]\n"
          ],
          "name": "stdout"
        }
      ]
    },
    {
      "cell_type": "code",
      "metadata": {
        "id": "Zm382008z8Wp"
      },
      "source": [
        ""
      ],
      "execution_count": null,
      "outputs": []
    },
    {
      "cell_type": "code",
      "metadata": {
        "id": "7LUf0v2oSP0B"
      },
      "source": [
        ""
      ],
      "execution_count": null,
      "outputs": []
    }
  ]
}