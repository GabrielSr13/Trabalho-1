{
  "nbformat": 4,
  "nbformat_minor": 0,
  "metadata": {
    "colab": {
      "name": "GPU_Project Trab.ipynb",
      "provenance": [],
      "collapsed_sections": []
    },
    "kernelspec": {
      "name": "python3",
      "display_name": "Python 3"
    },
    "language_info": {
      "name": "python"
    },
    "accelerator": "GPU"
  },
  "cells": [
    {
      "cell_type": "code",
      "metadata": {
        "colab": {
          "base_uri": "https://localhost:8080/"
        },
        "id": "QMnNKxYhClxP",
        "outputId": "aacbfd63-430d-4f98-b7b1-1aafac0726d3"
      },
      "source": [
        "from numba import cuda\n",
        "\n",
        "import numpy\n",
        "\n",
        "from numpy import *\n",
        "\n",
        "@cuda.jit\n",
        "def my_kernel(io_array, o_array):\n",
        "    # Thread id in a 1D block\n",
        "    tx = cuda.threadIdx.x\n",
        "    # Block id in a 1D grid\n",
        "    ty = cuda.blockIdx.x\n",
        "    # Block width, i.e. number of threads per block\n",
        "    bw = cuda.blockDim.x\n",
        "    \n",
        "    # Compute flattened index inside the array\n",
        "    pos = tx + ty * bw\n",
        "\n",
        "    num = 0\n",
        "    count = 0  \n",
        "    i = 0\n",
        "    #while( pos < io_array.size ):\n",
        "    if pos < io_array.size:\n",
        "      num = io_array[pos]\n",
        "      for n in io_array:\n",
        "        if num == n:\n",
        "          count = count + 1\n",
        "      o_array[num-1] = count\n",
        "      count = 0\n",
        "      i = i + 1  \n",
        "      \n",
        "\n",
        "# vetor com números\n",
        "data = random.randint(1,11, size=(100))\n",
        "print(\"Matriz de Valores:\")\n",
        "print(data)\n",
        "o_array = numpy.zeros([10])\n",
        "\n",
        "# números de threads por bloco\n",
        "threads_per_block = 32\n",
        "\n",
        "# número de blocos por grid\n",
        "blocks_per_grid = ( data.size + (threads_per_block - 1) )\n",
        "\n",
        "# iniciando o kernel\n",
        "my_kernel[blocks_per_grid, threads_per_block](data, o_array)\n",
        "\n",
        "# mostra o resultado\n",
        "i = 0\n",
        "soma = 0\n",
        "while (i < o_array.size):\n",
        "  soma = soma + o_array[i]\n",
        "  i = i+1\n",
        "print(\"\\nFrequencias:\")\n",
        "print(o_array)\n",
        "print(\"\\nSoma : \" ,soma)\n",
        "\n"
      ],
      "execution_count": 7,
      "outputs": [
        {
          "output_type": "stream",
          "text": [
            "Matriz de Valores:\n",
            "[ 5 10  3  5  9  6  3  7  7  3  5  6  4  5  2  9  2  9  2  7  2  8  3  7\n",
            "  2  3  9  2  9  6  8  7 10  4  4  7  7  3  7  3  4  3  8  4 10  5  2  8\n",
            "  3  1  7  3  3  3  8  3  2  8  3  8  4  3  9  7  7 10  7  9  6 10  7  8\n",
            "  5  3  1  7  1  1  6  1  6  2  1  9  7  3  5  7  3 10  3  9  2  4  1  9\n",
            "  5  5  9  4]\n",
            "\n",
            "Frequncias:\n",
            "[ 7. 10. 19.  8.  9.  6. 16.  8. 11.  6.]\n",
            "\n",
            "Soma :  100.0\n"
          ],
          "name": "stdout"
        }
      ]
    },
    {
      "cell_type": "code",
      "metadata": {
        "id": "Zm382008z8Wp"
      },
      "source": [
        ""
      ],
      "execution_count": null,
      "outputs": []
    },
    {
      "cell_type": "code",
      "metadata": {
        "id": "7LUf0v2oSP0B"
      },
      "source": [
        ""
      ],
      "execution_count": null,
      "outputs": []
    }
  ]
}